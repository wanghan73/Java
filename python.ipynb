{
 "cells": [
  {
   "cell_type": "markdown",
   "metadata": {},
   "source": [
    "# Part 01  Python概述"
   ]
  },
  {
   "cell_type": "markdown",
   "metadata": {},
   "source": [
    "# （1）解释型：含义，特点，优缺点。 "
   ]
  },
  {
   "cell_type": "markdown",
   "metadata": {},
   "source": [
    "含义：\n",
    "    解释型语言，其程序不需要在运行前进行编译，是在运行时将程序翻译成机器语言，专门的解释器负责在每个语句执行的时候解释程序代码。\n",
    "特点：\n",
    "    解释性语言的程序不需要编译，在运行程序的时候才进行翻译。它每执行一次要翻译一次，效率比较低。\n",
    "优点：\n",
    "    可移植性好，只要有解释环境，可以在不同的OS下运行。\n",
    "缺点：\n",
    "    运行时需要解释环境，运行起来比编译的要慢，占用资源也要多，相对来说效率比较低；代码修改后就可以运行，不需要编译。"
   ]
  },
  {
   "cell_type": "markdown",
   "metadata": {},
   "source": [
    "# （2）面向对象的：含义，特点，优缺点。 "
   ]
  },
  {
   "cell_type": "markdown",
   "metadata": {},
   "source": [
    "含义：\n",
    "    面向对象是一种以对象为基础，以事件或消息来驱动对象执行处理的过程。面向对象编程其实就是对“类”和“对象”的使用。\n",
    "特点：\n",
    "    封装性、继承、多态\n",
    "优点：\n",
    "    可读性高，由于继承的存在，使得易于维护；抽象性和类的使用使得效率大大提高；容易扩展。\n",
    "缺点：\n",
    "    性能比面向过程低。\t"
   ]
  },
  {
   "cell_type": "markdown",
   "metadata": {},
   "source": [
    "# （3）动态语义：含义，特点，优缺点。 "
   ]
  },
  {
   "cell_type": "markdown",
   "metadata": {},
   "source": [
    "含义：\n",
    "    它是高级程序设计语言的一个类别，是一类在执行时能够改变其结构的语言：比如新的函数、对象、甚至代码都能够被引进已有的函数能够被删除或其他结构上的变化。\n",
    "特点：\n",
    "    非常灵活\n",
    "优缺点：\n",
    "    动态语言一般适合需求多变但简单清晰的项目。其灵活性也使得它不易于维护。"
   ]
  },
  {
   "cell_type": "markdown",
   "metadata": {},
   "source": [
    "# Part 02  Python基本语法"
   ]
  },
  {
   "cell_type": "markdown",
   "metadata": {},
   "source": [
    "# （1）python命名规则"
   ]
  },
  {
   "cell_type": "markdown",
   "metadata": {},
   "source": [
    "变量名：\n",
    "    可以是字母数字下划线的组合 但是首字符必须是字母和下划线；\n",
    "包名和模块名：\n",
    "    应该是简短的、小写的名字。如果下划线可以改善可读性可以加入；\n",
    "类名：\n",
    "    总是使用首字母大写单词串；\n",
    "函数名：\n",
    "    一般是小写+下划线。"
   ]
  },
  {
   "cell_type": "markdown",
   "metadata": {},
   "source": [
    "# （2）python中的代码缩进和冒号的使用"
   ]
  },
  {
   "cell_type": "markdown",
   "metadata": {},
   "source": [
    "代码缩进：\n",
    "    Python中使用代码缩进和冒号来区分代码的层次，最佳的代码缩进长度是四个空格。\n",
    "缩进的空白数量是可变的，但是所有代码块语句必须包含相同的缩进空白数量，这个必须严格执行。当程序出现错误的时候可能是代码缩进出现了错误。\n",
    "冒号：\n",
    "    函数，循环，条件，类定义等后面都是跟着一个block， block需要缩进，所以这些语句后面都有一个冒号"
   ]
  },
  {
   "cell_type": "markdown",
   "metadata": {},
   "source": [
    "# （3）python注释"
   ]
  },
  {
   "cell_type": "markdown",
   "metadata": {},
   "source": [
    "单行注释：\n",
    "    以#开头\n",
    "多行注释：\n",
    "    用三个单引号或者三个双引号将注释括起来。"
   ]
  },
  {
   "cell_type": "markdown",
   "metadata": {},
   "source": [
    "# （4）“import语句 ”和“from…import…语句“，这两种导入方式的使用方法和区别 "
   ]
  },
  {
   "cell_type": "markdown",
   "metadata": {},
   "source": [
    "Import  sys:导入模块中的所有；\n",
    "From sys import  path:导入模块中的一部分；"
   ]
  },
  {
   "cell_type": "markdown",
   "metadata": {},
   "source": [
    "# （5）如何导入自建模块？Python2和Python3有什么区别？如何导入上一级目录或者根目录的模块？ "
   ]
  },
  {
   "cell_type": "markdown",
   "metadata": {},
   "source": [
    "1）如果导入的模块和主程序在同个目录下，直接import就行了\n",
    "2）如果导入的模块是在主程序所在目录的子目录下，可以在子目录中增加一个空白的__init__.py文件，该文件使得python解释器将子目录整个也当成一个模块，然后直接通过“import 子目录.模块”导入即可。\n",
    "3）如果导入的模块是在主程序所在目录的父目录下，则要通过修改path来解决，通过”import sys，sys.path.append('父目录的路径')“来改变，这种方法属于一次性的，只对当前的python解释器进程有效，关掉python重启后就失效了。\n",
    "4）python2默认为相对路径导入，from . import b或者from ..a import b\n",
    "python3默认为绝对路径导入，import a.b或者from a import b"
   ]
  },
  {
   "cell_type": "markdown",
   "metadata": {},
   "source": [
    "# （6）Python2和Python3在运算符和表达式上有哪些不同？"
   ]
  },
  {
   "cell_type": "markdown",
   "metadata": {},
   "source": [
    "1）python3对Unicode字符原生支持，而python2使用ASCII码作为默认编码方式导致String有两种类型str和unicode，python3只支持unicode的string。\n",
    "2）python2 运用不等于时既可以使用<>,也可以使用!=；而python3只能使用！=。\n",
    "3）浮点数除法操作符/和//区别：Python2:/是整数除法，//是小数除法；Python3:/是小数除法，//是整数除法。"
   ]
  },
  {
   "cell_type": "markdown",
   "metadata": {},
   "source": [
    "# Part 03  Python数据结构"
   ]
  },
  {
   "cell_type": "markdown",
   "metadata": {},
   "source": [
    "# （1）类比其他语言，解释该结构（元组、列表、字典和集合）用途和具体使用方法。"
   ]
  },
  {
   "cell_type": "markdown",
   "metadata": {},
   "source": [
    "1）组：元组是 Python 中特有的，和大多数编程语言一样，元组也可以类比 C 语言中的数组，元组的第一个元素是从0开始的，也就是代表第一个元素。\n",
    "2）列表：比C语言强大的地方是，列表非常灵活，它的元素类型可以是不同的类型。声明列表非常简单。用逗号分隔的项目括在括号[]内。\n",
    "3)字典：字典是一个杂乱、易变、索引的集合。在python字典中，使用大括号编写，它们具有键和值，如d={key1:value1、key2:value2}。可以通过键访问dict中的值；通过添加/删除/更新键和值更改字典。\n",
    "4)集合（set）：可以认为是字典和列表的杂合。它的特点是：有的可变，有的不可变；元素无次序，不可重复。\n",
    "通过set（）来创建集合，还可以用{}的方式，但不提倡使用，因为在某些情况下，python搞不清是字典还是集合。\n",
    "例如：输入：s=set(“wh”)\n",
    "         输出：set([‘w’，’h’])"
   ]
  },
  {
   "cell_type": "markdown",
   "metadata": {},
   "source": [
    "# （2）排序方法 "
   ]
  },
  {
   "cell_type": "markdown",
   "metadata": {},
   "source": []
  },
  {
   "cell_type": "markdown",
   "metadata": {},
   "source": [
    "# Part 04  Python字符串"
   ]
  },
  {
   "cell_type": "markdown",
   "metadata": {},
   "source": [
    "# （1）字符串常用函数\n"
   ]
  },
  {
   "cell_type": "markdown",
   "metadata": {},
   "source": [
    "1）在一个较长字符串中查找子串：str.find(‘other’)\n",
    "2）连接字符串数组：str.join(list)\n",
    "3）将字符串根据某个分隔符进行分割：str.Split('delimiter')\n",
    "4）把字符串中的旧字符串替换成新字符串：str.replace(‘old’,’new’)\n",
    "5）去掉字符串的左右空格：str.strip（）\n",
    "6）进行大小写转换：str.upper（），str.lower（）"
   ]
  },
  {
   "cell_type": "code",
   "execution_count": 1,
   "metadata": {},
   "outputs": [
    {
     "name": "stdout",
     "output_type": "stream",
     "text": [
      "2\n"
     ]
    }
   ],
   "source": [
    "s1 = 'hello world'\n",
    "print(s1.find('l'))"
   ]
  },
  {
   "cell_type": "code",
   "execution_count": 2,
   "metadata": {},
   "outputs": [
    {
     "name": "stdout",
     "output_type": "stream",
     "text": [
      "['hello', 'world', 'hello', 'china']\n"
     ]
    }
   ],
   "source": [
    "s1 = 'hello world hello china'\n",
    "print(s1.split(' '))"
   ]
  },
  {
   "cell_type": "code",
   "execution_count": 3,
   "metadata": {},
   "outputs": [
    {
     "name": "stdout",
     "output_type": "stream",
     "text": [
      "hesso world\n",
      "hesso worsd\n"
     ]
    }
   ],
   "source": [
    "s1 = 'hello world'\n",
    "print(s1.replace('l','s',2))\n",
    "print(s1.replace('l','s'))"
   ]
  },
  {
   "cell_type": "code",
   "execution_count": 4,
   "metadata": {},
   "outputs": [
    {
     "name": "stdout",
     "output_type": "stream",
     "text": [
      "hello world hello china\n"
     ]
    }
   ],
   "source": [
    "s1 = 'hello world hello china      '\n",
    "print(s1.rstrip())"
   ]
  },
  {
   "cell_type": "code",
   "execution_count": 5,
   "metadata": {},
   "outputs": [
    {
     "name": "stdout",
     "output_type": "stream",
     "text": [
      "h-e-l-l-o- -w-o-r-l-d- -h-e-l-l-o- -c-h-i-n-a\n"
     ]
    }
   ],
   "source": [
    "s1 = 'hello world hello china'\n",
    "s2 = '-'\n",
    "print(s2.join(s1))"
   ]
  },
  {
   "cell_type": "code",
   "execution_count": 6,
   "metadata": {},
   "outputs": [
    {
     "name": "stdout",
     "output_type": "stream",
     "text": [
      "hello world hello china\n"
     ]
    }
   ],
   "source": [
    "s1 = 'HELLO WORLD hello china'\n",
    "print(s1.lower())"
   ]
  },
  {
   "cell_type": "markdown",
   "metadata": {},
   "source": [
    "# （2）正则表达式 "
   ]
  },
  {
   "cell_type": "markdown",
   "metadata": {},
   "source": []
  },
  {
   "cell_type": "markdown",
   "metadata": {},
   "source": [
    "# （3）字符串、列表和元组有什么不同的地方 "
   ]
  },
  {
   "cell_type": "markdown",
   "metadata": {},
   "source": [
    "1）字符串、列表和元组都属于序列类型，属于序列的操作对三者都适用。最大的区别是：列表中的元素是可以改变的，但是元组和字符串中的元素不可变。\n",
    "2）字符串中每个元素只能是字符，列表和元组中元素可以是任何类型。"
   ]
  },
  {
   "cell_type": "markdown",
   "metadata": {},
   "source": [
    "# （4）字符串拼接 "
   ]
  },
  {
   "cell_type": "markdown",
   "metadata": {},
   "source": [
    "1）使用+号来进行字符串的拼接：str1+str2\n",
    "2) 使用%进行拼接: 用符号“%”连接一个字符串和一组变量，字符串中的特殊标记会被自动用右边变量组中的变量替换。\n",
    "3）利用字符串的函数join()\n",
    "4) 通过str.format()方法拼接"
   ]
  },
  {
   "cell_type": "code",
   "execution_count": 4,
   "metadata": {},
   "outputs": [
    {
     "name": "stdout",
     "output_type": "stream",
     "text": [
      "Hello World!\n"
     ]
    }
   ],
   "source": [
    "s = 'Hello'+' '+'World'+'!'\n",
    "print(s)"
   ]
  },
  {
   "cell_type": "code",
   "execution_count": 5,
   "metadata": {},
   "outputs": [
    {
     "name": "stdout",
     "output_type": "stream",
     "text": [
      "Hello World!\n"
     ]
    }
   ],
   "source": [
    "s = '%s %s!' % ('Hello', 'World')\n",
    "print(s)"
   ]
  },
  {
   "cell_type": "code",
   "execution_count": 10,
   "metadata": {},
   "outputs": [
    {
     "name": "stdout",
     "output_type": "stream",
     "text": [
      "Hello World!\n"
     ]
    }
   ],
   "source": [
    "strlist=['Hello',' ','World','!']\n",
    "print(''.join(strlist))"
   ]
  },
  {
   "cell_type": "code",
   "execution_count": 11,
   "metadata": {},
   "outputs": [
    {
     "name": "stdout",
     "output_type": "stream",
     "text": [
      "Hello World!\n"
     ]
    }
   ],
   "source": [
    "s='{} {}!'.format('Hello','World')\n",
    "print(s)"
   ]
  },
  {
   "cell_type": "code",
   "execution_count": null,
   "metadata": {},
   "outputs": [],
   "source": []
  },
  {
   "cell_type": "code",
   "execution_count": null,
   "metadata": {},
   "outputs": [],
   "source": []
  },
  {
   "cell_type": "code",
   "execution_count": null,
   "metadata": {},
   "outputs": [],
   "source": []
  }
 ],
 "metadata": {
  "kernelspec": {
   "display_name": "Python 3",
   "language": "python",
   "name": "python3"
  },
  "language_info": {
   "codemirror_mode": {
    "name": "ipython",
    "version": 3
   },
   "file_extension": ".py",
   "mimetype": "text/x-python",
   "name": "python",
   "nbconvert_exporter": "python",
   "pygments_lexer": "ipython3",
   "version": "3.7.1"
  }
 },
 "nbformat": 4,
 "nbformat_minor": 2
}
