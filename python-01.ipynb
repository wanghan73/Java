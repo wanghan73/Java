{
 "cells": [
  {
   "cell_type": "markdown",
   "metadata": {},
   "source": [
    "# Part 01  Python概述"
   ]
  },
  {
   "cell_type": "markdown",
   "metadata": {},
   "source": [
    "# （1）解释型：含义，特点，优缺点"
   ]
  },
  {
   "cell_type": "markdown",
   "metadata": {},
   "source": [
    "含义：\n",
    "\n",
    "    解释型语言，其程序不需要在运行前进行编译，是在运行时将程序翻译成机器语言，专门的解释器负责在每个语句执行的时候解释程序代码。\n",
    "特点：\n",
    "\n",
    "    解释性语言的程序不需要编译，在运行程序的时候才进行翻译。它每执行一次要翻译一次，效率比较低。\n",
    "优点：\n",
    "\n",
    "    可移植性好，只要有解释环境，可以在不同的OS下运行。\n",
    "缺点：\n",
    "\n",
    "    运行时需要解释环境，运行起来比编译的要慢，占用资源也要多，相对来说效率比较低；代码修改后就可以运行，不需要编译。"
   ]
  },
  {
   "cell_type": "markdown",
   "metadata": {},
   "source": [
    "# （2）面向对象的：含义，特点，优缺点"
   ]
  },
  {
   "cell_type": "markdown",
   "metadata": {},
   "source": [
    "含义：\n",
    "    \n",
    "    面向对象是一种以对象为基础，以事件或消息来驱动对象执行处理的过程。面向对象编程其实就是对“类”和“对象”的使用。\n",
    "特点：\n",
    "    \n",
    "    封装性、继承、多态\n",
    "优点：\n",
    "    \n",
    "    可读性高，由于继承的存在，使得易于维护；抽象性和类的使用使得效率大大提高；容易扩展。\n",
    "缺点：\n",
    "    \n",
    "    性能比面向过程低。\t"
   ]
  },
  {
   "cell_type": "markdown",
   "metadata": {},
   "source": [
    "# （3）动态语义：含义，特点，优缺点"
   ]
  },
  {
   "cell_type": "markdown",
   "metadata": {},
   "source": [
    "含义：\n",
    "    \n",
    "    它是高级程序设计语言的一个类别，是一类在执行时能够改变其结构的语言：比如新的函数、对象、甚至代码都能够被引进已有的函数能够被删除或其他结构上的变化。\n",
    "特点：\n",
    "    \n",
    "    非常灵活\n",
    "优缺点：\n",
    "    \n",
    "    动态语言一般适合需求多变但简单清晰的项目。其灵活性也使得它不易于维护。"
   ]
  },
  {
   "cell_type": "markdown",
   "metadata": {},
   "source": [
    "# Part 02  Python基本语法"
   ]
  },
  {
   "cell_type": "markdown",
   "metadata": {},
   "source": [
    "# （1）python命名规则"
   ]
  },
  {
   "cell_type": "markdown",
   "metadata": {},
   "source": [
    "变量名：\n",
    "    \n",
    "    可以是字母数字下划线的组合 但是首字符必须是字母和下划线；\n",
    "    \n",
    "    变量名尽量小写, 如有多个单词，用下划线隔开.\n",
    "    \n",
    "常量：\n",
    "\n",
    "    使用以下划线分隔的大写命名；\n",
    "    \n",
    "包名和模块名：\n",
    "    \n",
    "    模块尽量使用小写命名，首字母保持小写，尽量不要用下划线(除非多个单词，且数量不多的情况)\n",
    "    \n",
    "类名：\n",
    "\n",
    "    类名使用驼峰(CamelCase)命名风格，首字母大写，私有类可用一个下划线开头\n",
    "    \n",
    "函数名：\n",
    "\n",
    "    函数名一律小写，如有多个单词，用下划线隔开"
   ]
  },
  {
   "cell_type": "code",
   "execution_count": null,
   "metadata": {},
   "outputs": [],
   "source": [
    "count = 0 #变量名\n",
    "school_name = ''"
   ]
  },
  {
   "cell_type": "code",
   "execution_count": null,
   "metadata": {},
   "outputs": [],
   "source": [
    "MAX_CLIENT = 100 #常量名\n",
    "MAX_CONNECTION = 1000\n",
    "CONNECTION_TIMEOUT = 600"
   ]
  },
  {
   "cell_type": "code",
   "execution_count": null,
   "metadata": {},
   "outputs": [],
   "source": [
    "import decoder #模块名"
   ]
  },
  {
   "cell_type": "code",
   "execution_count": null,
   "metadata": {},
   "outputs": [],
   "source": [
    "class Animal(): #类名"
   ]
  },
  {
   "cell_type": "code",
   "execution_count": null,
   "metadata": {},
   "outputs": [],
   "source": [
    "def run(): #函数名\n",
    "    pass\n",
    "def run_a():\n",
    "    pass"
   ]
  },
  {
   "cell_type": "markdown",
   "metadata": {},
   "source": [
    "# （2）python中的代码缩进和冒号的使用"
   ]
  },
  {
   "cell_type": "markdown",
   "metadata": {},
   "source": [
    "代码缩进：\n",
    "\n",
    "    Python中使用代码缩进和冒号来区分代码的层次，最佳的代码缩进长度是四个空格。\n",
    "    \n",
    "    缩进的空白数量是可变的，但是所有代码块语句必须包含相同的缩进空白数量，这个必须严格执行。\n",
    "\n",
    "    当程序出现错误的时候可能是代码缩进出现了错误。\n",
    "\n",
    "冒号：\n",
    "\n",
    "    函数，循环，条件，类定义等后面都是跟着一个block， block需要缩进，所以这些语句后面都有一个冒号."
   ]
  },
  {
   "cell_type": "markdown",
   "metadata": {},
   "source": [
    "# （3）python中变量赋值"
   ]
  },
  {
   "cell_type": "markdown",
   "metadata": {},
   "source": [
    "Python 中的变量赋值不需要类型声明。\n",
    "\n",
    "每个变量在内存中创建，都包括变量的标识，名称和数据这些信息。\n",
    "\n",
    "每个变量在使用前都必须赋值，变量赋值以后该变量才会被创建。\n",
    "\n",
    "等号（=）用来给变量赋值。\n",
    "\n",
    "等号（=）运算符左边是一个变量名,等号（=）运算符右边是存储在变量中的值。"
   ]
  },
  {
   "cell_type": "code",
   "execution_count": 44,
   "metadata": {},
   "outputs": [
    {
     "data": {
      "text/plain": [
       "100"
      ]
     },
     "execution_count": 44,
     "metadata": {},
     "output_type": "execute_result"
    }
   ],
   "source": [
    "counter = 100 # 赋值整型变量\n",
    "counter"
   ]
  },
  {
   "cell_type": "code",
   "execution_count": 48,
   "metadata": {},
   "outputs": [
    {
     "data": {
      "text/plain": [
       "6"
      ]
     },
     "execution_count": 48,
     "metadata": {},
     "output_type": "execute_result"
    }
   ],
   "source": [
    "a, b, c = 1, 2,3 #为多个变量赋值\n",
    "a+b+c"
   ]
  },
  {
   "cell_type": "markdown",
   "metadata": {},
   "source": [
    "# （4）python注释"
   ]
  },
  {
   "cell_type": "markdown",
   "metadata": {},
   "source": [
    "单行注释：\n",
    "   \n",
    "    以#开头\n",
    "   \n",
    "多行注释：\n",
    "\n",
    "    用三个单引号或者三个双引号将注释括起来。"
   ]
  },
  {
   "cell_type": "code",
   "execution_count": 1,
   "metadata": {},
   "outputs": [
    {
     "name": "stdout",
     "output_type": "stream",
     "text": [
      "Hello, World!\n"
     ]
    }
   ],
   "source": [
    "# 这是一个注释\n",
    "print(\"Hello, World!\") "
   ]
  },
  {
   "cell_type": "code",
   "execution_count": 2,
   "metadata": {},
   "outputs": [
    {
     "name": "stdout",
     "output_type": "stream",
     "text": [
      "Hello, World!\n"
     ]
    }
   ],
   "source": [
    "'''\n",
    "这是多行注释，用三个单引号\n",
    "这是多行注释，用三个单引号 \n",
    "这是多行注释，用三个单引号\n",
    "'''\n",
    "print(\"Hello, World!\") "
   ]
  },
  {
   "cell_type": "code",
   "execution_count": 3,
   "metadata": {},
   "outputs": [
    {
     "name": "stdout",
     "output_type": "stream",
     "text": [
      "Hello, World!\n"
     ]
    }
   ],
   "source": [
    "\"\"\"\n",
    "这是多行注释，用三个双引号\n",
    "这是多行注释，用三个双引号 \n",
    "这是多行注释，用三个双引号\n",
    "\"\"\"\n",
    "print(\"Hello, World!\") "
   ]
  },
  {
   "cell_type": "markdown",
   "metadata": {},
   "source": [
    "# （5）“import语句 ”和“from…import…语句“，这两种导入方式的使用方法和区别 "
   ]
  },
  {
   "cell_type": "markdown",
   "metadata": {},
   "source": [
    "Import  sys:\n",
    "\n",
    "    导入模块中的所有；\n",
    "    \n",
    "From sys import  path:\n",
    "\n",
    "    Python 的 from 语句让你从模块中导入一个指定的部分到当前命名空间中。"
   ]
  },
  {
   "cell_type": "code",
   "execution_count": 10,
   "metadata": {},
   "outputs": [
    {
     "name": "stdout",
     "output_type": "stream",
     "text": [
      "命令行参数为: d:\\python\\python3\\lib\\site-packages\\ipykernel_launcher.py\n"
     ]
    }
   ],
   "source": [
    "import sys\n",
    "print ('命令行参数为:',sys.argv[0])"
   ]
  },
  {
   "cell_type": "code",
   "execution_count": 9,
   "metadata": {},
   "outputs": [
    {
     "name": "stdout",
     "output_type": "stream",
     "text": [
      "命令行参数为: d:\\python\\python3\\lib\\site-packages\\ipykernel_launcher.py\n"
     ]
    }
   ],
   "source": [
    "from sys import argv\n",
    "print ('命令行参数为:',argv[0])"
   ]
  },
  {
   "cell_type": "markdown",
   "metadata": {},
   "source": [
    "# （6）如何导入自建模块？Python2和Python3有什么区别？如何导入上一级目录或者根目录的模块？ "
   ]
  },
  {
   "cell_type": "markdown",
   "metadata": {},
   "source": [
    "1）如果导入的模块和主程序在同个目录下，直接import就行了\n",
    "\n",
    "2）如果导入的模块是在主程序所在目录的子目录下，可以在子目录中增加一个空白的__init__.py文件，\n",
    "\n",
    "该文件使得python解释器将子目录整个也当成一个模块，然后直接通过“import 子目录.模块”导入即可。\n",
    "\n",
    "3）如果导入的模块是在主程序所在目录的父目录下，则要通过修改path来解决，通过”import sys，sys.path.append('父目录的路径')“来改变，这种方法属\n",
    "\n",
    "于一次性的，只对当前的python解释器进程有效，关掉python重启后就失效了。\n",
    "\n",
    "4）python2默认为相对路径导入，from . import b或者from ..a import b\n",
    "\n",
    "python3默认为绝对路径导入，import a.b或者from a import b"
   ]
  },
  {
   "cell_type": "markdown",
   "metadata": {},
   "source": [
    "# （7）python运算符以及优先级 "
   ]
  },
  {
   "cell_type": "markdown",
   "metadata": {},
   "source": [
    "算术运算符：+、-、*、/、%、**、//(取整除)\n"
   ]
  },
  {
   "cell_type": "code",
   "execution_count": 59,
   "metadata": {},
   "outputs": [
    {
     "name": "stdout",
     "output_type": "stream",
     "text": [
      "31\n",
      "11\n",
      "210\n",
      "2.1\n",
      "1\n"
     ]
    }
   ],
   "source": [
    "a=21\n",
    "b=10\n",
    "c=0\n",
    "c=a+b\n",
    "d=a-b\n",
    "e=a*b\n",
    "f=a/b\n",
    "g=a%b\n",
    "print (c)\n",
    "print (d)\n",
    "print(e)\n",
    "print(f)\n",
    "print(g)"
   ]
  },
  {
   "cell_type": "markdown",
   "metadata": {},
   "source": [
    "比较运算符：==、！=、<>、>、<、>=、<="
   ]
  },
  {
   "cell_type": "markdown",
   "metadata": {},
   "source": [
    "赋值运算符：=、+=、-=、*=、/=、%=、**=、//="
   ]
  },
  {
   "cell_type": "markdown",
   "metadata": {},
   "source": [
    "位运算符：&、|、^、~、<<、>>"
   ]
  },
  {
   "cell_type": "markdown",
   "metadata": {},
   "source": [
    "逻辑运算符：and、or、not"
   ]
  },
  {
   "cell_type": "markdown",
   "metadata": {},
   "source": [
    "成员运算符：in、not in"
   ]
  },
  {
   "cell_type": "markdown",
   "metadata": {},
   "source": [
    "运算符优先级：1)** 2)~+ - 3)* / % // 4)+ - 5)>> << 6)& 7)^ | 8)<= < > >= 9)<> ==  != 10)赋值运算符 11）身份运算符 12）成员运算符 13）逻辑运算符"
   ]
  },
  {
   "cell_type": "markdown",
   "metadata": {},
   "source": [
    "# （7）Python2和Python3在运算符和表达式上有哪些不同？"
   ]
  },
  {
   "cell_type": "markdown",
   "metadata": {},
   "source": [
    "1）python3对Unicode字符原生支持，而python2使用ASCII码作为默认编码方式导致String有两种类型str和unicode，python3只支持unicode的string。\n",
    "\n",
    "2）python2 运用不等于时既可以使用<>,也可以使用!=；而python3只能使用！=。\n",
    "\n",
    "3）浮点数除法操作符/和//区别：Python2:/是整数除法，//是小数除法；Python3:/是小数除法，//是整数除法。"
   ]
  },
  {
   "cell_type": "markdown",
   "metadata": {},
   "source": [
    "# Part 03  Python数据结构"
   ]
  },
  {
   "cell_type": "markdown",
   "metadata": {},
   "source": [
    "# （1）类比其他语言，解释该结构（元组、列表、字典和集合）用途和具体使用方法。"
   ]
  },
  {
   "cell_type": "markdown",
   "metadata": {},
   "source": [
    "列表：\n",
    "\n",
    "    列表类似于C语言中的数组，比C语言强大的地方是，列表是一种用于保存一系列有序项目的集合，非常灵活，它的元素类型可以是不同的类型。\n",
    "\n",
    "    声明列表非常简单，用逗号分隔的项目括在括号[]内。"
   ]
  },
  {
   "cell_type": "code",
   "execution_count": 8,
   "metadata": {},
   "outputs": [
    {
     "name": "stdout",
     "output_type": "stream",
     "text": [
      "['Python', 'Java', 'PHP', 'Python Crash Course']\n"
     ]
    }
   ],
   "source": [
    "booklist = ['Python','Java','PHP']\n",
    "booklist.append('Python Crash Course')#在列表尾部添加新元素\n",
    "print (booklist) "
   ]
  },
  {
   "cell_type": "code",
   "execution_count": 2,
   "metadata": {},
   "outputs": [
    {
     "name": "stdout",
     "output_type": "stream",
     "text": [
      "['PHP', 'Java', 'Python']\n"
     ]
    }
   ],
   "source": [
    "booklist = ['Python','Java','PHP']\n",
    "booklist.reverse()   #反转列表元素的排序，永久性修改，但可再次调用reverse()恢复\n",
    "print (booklist)"
   ]
  },
  {
   "cell_type": "code",
   "execution_count": 5,
   "metadata": {},
   "outputs": [
    {
     "name": "stdout",
     "output_type": "stream",
     "text": [
      "['Java', 'PHP', 'Python']\n"
     ]
    }
   ],
   "source": [
    "booklist = ['Python','Java','PHP']\n",
    "booklist.sort()                    # 按照字母排序，排序后无法恢复\n",
    "print (booklist)"
   ]
  },
  {
   "cell_type": "code",
   "execution_count": 6,
   "metadata": {},
   "outputs": [
    {
     "name": "stdout",
     "output_type": "stream",
     "text": [
      "['Python', 'PHP']\n"
     ]
    }
   ],
   "source": [
    "booklist = ['Python','Java','PHP']\n",
    "del booklist[1]  #删除列表元素\n",
    "print(booklist)"
   ]
  },
  {
   "cell_type": "code",
   "execution_count": 7,
   "metadata": {},
   "outputs": [
    {
     "name": "stdout",
     "output_type": "stream",
     "text": [
      "['Mysql', 'Python', 'Java', 'PHP']\n"
     ]
    }
   ],
   "source": [
    "booklist = ['Python','Java','PHP']\n",
    "booklist.insert(0,'Mysql')    # 在列表开头添加新元素\n",
    "print(booklist)"
   ]
  },
  {
   "cell_type": "markdown",
   "metadata": {},
   "source": [
    "元组：\n",
    "\n",
    "    元组是 Python 中特有的，和大多数编程语言一样，元组也可以类比 C 语言中的数组，元组的第一个元素是从0开始的，也就是代表第一个元素。\n",
    "    \n",
    "    元组近似看作列表，但是元组不能提供列表类广泛的功能，元组类似于字符串，不可变，不能修改元组。\n",
    "      \n",
    "    指定项目时，给他们加上括号，并在括号内部使用逗号进行分隔。"
   ]
  },
  {
   "cell_type": "code",
   "execution_count": 9,
   "metadata": {},
   "outputs": [
    {
     "name": "stdout",
     "output_type": "stream",
     "text": [
      "('monkey', 'elephant', 'camel')\n"
     ]
    }
   ],
   "source": [
    "zoo = ('monkey','elephant','camel')\n",
    "print(zoo)"
   ]
  },
  {
   "cell_type": "markdown",
   "metadata": {},
   "source": [
    "字典：\n",
    "\n",
    "    字典是一个杂乱、易变、索引的集合。在python字典中，使用大括号编写，它们具有键和值，如d={key1:value1、key2:value2}。\n",
    "     \n",
    "    可以通过键访问dict中的值；通过添加/删除/更新键和值更改字典。\n",
    "    \n",
    "    字典中的键值对不会以人格方式进行排序，只能在使用它们之前自行进行排序"
   ]
  },
  {
   "cell_type": "code",
   "execution_count": 17,
   "metadata": {},
   "outputs": [
    {
     "data": {
      "text/plain": [
       "3"
      ]
     },
     "execution_count": 17,
     "metadata": {},
     "output_type": "execute_result"
    }
   ],
   "source": [
    "dict = {'a': 1, 'b': 2, 'b': 3}\n",
    "dict['b']"
   ]
  },
  {
   "cell_type": "code",
   "execution_count": 24,
   "metadata": {},
   "outputs": [
    {
     "data": {
      "text/plain": [
       "'Zara'"
      ]
     },
     "execution_count": 24,
     "metadata": {},
     "output_type": "execute_result"
    }
   ],
   "source": [
    "dict = {'Name': 'Zara', 'Age': 7, 'Class': 'First'}\n",
    "dict['Name']"
   ]
  },
  {
   "cell_type": "markdown",
   "metadata": {},
   "source": [
    "集合（set）：\n",
    "\n",
    "    可以认为是字典和列表的杂合。它的特点是：有的可变，有的不可变；元素无次序，不可重复。\n",
    "    \n",
    "    通过set（）来创建集合，还可以用{}的方式，但不提倡使用，因为在某些情况下，python搞不清是字典还是集合。"
   ]
  },
  {
   "cell_type": "code",
   "execution_count": 32,
   "metadata": {},
   "outputs": [
    {
     "name": "stdout",
     "output_type": "stream",
     "text": [
      "{1, 2, 3, 4, 5}\n"
     ]
    }
   ],
   "source": [
    "s = {1,2,3,1,2,3,4,5}\n",
    "print (s)"
   ]
  },
  {
   "cell_type": "code",
   "execution_count": 33,
   "metadata": {},
   "outputs": [
    {
     "data": {
      "text/plain": [
       "set"
      ]
     },
     "execution_count": 33,
     "metadata": {},
     "output_type": "execute_result"
    }
   ],
   "source": [
    "s = {1,2,3,1,2,3,4,5}\n",
    "type(s)"
   ]
  },
  {
   "cell_type": "markdown",
   "metadata": {},
   "source": [
    "# （2）排序方法 "
   ]
  },
  {
   "cell_type": "markdown",
   "metadata": {},
   "source": [
    "1） 插入排序：将一个数据插入到已经排好序的有序数据中，从而得到一个新的、个数加一的有序数据，"
   ]
  },
  {
   "cell_type": "code",
   "execution_count": 12,
   "metadata": {},
   "outputs": [
    {
     "data": {
      "text/plain": [
       "[1, 2, 3, 5]"
      ]
     },
     "execution_count": 12,
     "metadata": {},
     "output_type": "execute_result"
    }
   ],
   "source": [
    "def insert_sort(lists):\n",
    "    count = len(lists)\n",
    "    for i in range(1, count):\n",
    "        key = lists[i]\n",
    "        j = i - 1\n",
    "        while j >= 0:\n",
    "            if lists[j] > key:\n",
    "                lists[j + 1] = lists[j]\n",
    "                lists[j] = key\n",
    "            j -= 1   \n",
    "    return lists\n",
    "list=[2,1,5,3]\n",
    "insert_sort(list)"
   ]
  },
  {
   "cell_type": "markdown",
   "metadata": {},
   "source": [
    "2）冒泡排序：它重复遍历要排序的数列，一次比较两个元素，如果他们的顺序错误就把他们交换过来。\n",
    "\n",
    "   遍历数列的工作是重复地进行直到没有再需要交换，也就是说该数列已经排序完成。"
   ]
  },
  {
   "cell_type": "code",
   "execution_count": 13,
   "metadata": {},
   "outputs": [
    {
     "data": {
      "text/plain": [
       "[1, 2, 3, 5]"
      ]
     },
     "execution_count": 13,
     "metadata": {},
     "output_type": "execute_result"
    }
   ],
   "source": [
    "def bubble_sort(lists):\n",
    "    count = len(lists)\n",
    "    for i in range(0, count):\n",
    "        for j in range(i + 1, count):\n",
    "            if lists[i] > lists[j]:\n",
    "                lists[i], lists[j] = lists[j], lists[i]\n",
    "    return lists\n",
    "list=[2,1,5,3]\n",
    "bubble_sort(list)"
   ]
  },
  {
   "cell_type": "markdown",
   "metadata": {},
   "source": [
    "3）sorted是python的内建排序函数"
   ]
  },
  {
   "cell_type": "code",
   "execution_count": 16,
   "metadata": {},
   "outputs": [
    {
     "name": "stdout",
     "output_type": "stream",
     "text": [
      "[0, 1, 2, 3, 4, 5, 6, 7, 8, 9, 12]\n"
     ]
    }
   ],
   "source": [
    "a=[1,2,5,3,9,4,6,8,7,0,12]\n",
    "a.sort()\n",
    "print (a)"
   ]
  },
  {
   "cell_type": "markdown",
   "metadata": {},
   "source": [
    "4）快速排序：通过一趟排序将要排序的数据分割成独立的两部分，其中一部分的所有数据都比另外一部分的所有数据都要小，然后再按此方法对这两部分数据\n",
    "\n",
    "分别进行快速排序，整个排序过程可以递归进行，以此达到整个数据变成有序序列。"
   ]
  },
  {
   "cell_type": "code",
   "execution_count": 20,
   "metadata": {},
   "outputs": [
    {
     "name": "stdout",
     "output_type": "stream",
     "text": [
      "[2, 3, 4, 5, 6, 6, 7, 8, 9]\n"
     ]
    }
   ],
   "source": [
    "def quick_sort(qlist):\n",
    "    if qlist == []:\n",
    "        return []\n",
    "    else:\n",
    "        qfirst = qlist[0]\n",
    "        qless = quick_sort([l for l in qlist[1:] if l < qfirst])\n",
    "        qmore = quick_sort([m for m in qlist[1:] if m >= qfirst])\n",
    "        return qless + [qfirst] + qmore\n",
    " \n",
    "qlist = quick_sort([4,5,6,7,3,2,6,9,8])\n",
    "print (qlist)"
   ]
  },
  {
   "cell_type": "markdown",
   "metadata": {},
   "source": [
    "5)选择排序：第1趟，在待排序记录r1 ~ r[n]中选出最小的记录，将它与r1交换；第2趟，在待排序记录r2 ~ r[n]中选出最小的记录，将它与r2交换；以此类推，\n",
    "\n",
    "第i趟在待排序记录r[i] ~ r[n]中选出最小的记录，将它与r[i]交换，使有序序列不断增长直到全部排序完毕"
   ]
  },
  {
   "cell_type": "code",
   "execution_count": 21,
   "metadata": {},
   "outputs": [
    {
     "name": "stdout",
     "output_type": "stream",
     "text": [
      "[2, 3, 4, 5, 6, 6, 7, 8, 9]\n"
     ]
    }
   ],
   "source": [
    "def select_sort(slist):\n",
    "    for i in range(len(slist)):\n",
    "        x = i\n",
    "        for j in range(i, len(slist)):\n",
    "            if slist[j] < slist[x]:\n",
    "                x = j\n",
    "        slist[i], slist[x] = slist[x], slist[i]\n",
    "    return slist\n",
    " \n",
    "slist = select_sort([4,5,6,7,3,2,6,9,8])\n",
    "print (slist)"
   ]
  },
  {
   "cell_type": "markdown",
   "metadata": {},
   "source": [
    "6)希尔排序：希尔排序是把记录按下标的一定增量分组，对每组使用直接插入排序算法排序；随着增量逐渐减少，每组包含的关键词越来越多，当增量减至1时，\n",
    "\n",
    "整个文件恰被分成一组，算法便终止"
   ]
  },
  {
   "cell_type": "code",
   "execution_count": 24,
   "metadata": {},
   "outputs": [
    {
     "name": "stdout",
     "output_type": "stream",
     "text": [
      "[2, 3, 4, 5, 6, 6, 7, 8, 9]\n"
     ]
    }
   ],
   "source": [
    "def shell_sort(slist):\n",
    "    gap = len(slist)\n",
    "    while gap > 1:\n",
    "        gap = gap // 2\n",
    "        for i in range(gap, len(slist)):\n",
    "            for j in range(i % gap, i, gap):\n",
    "                if slist[i] < slist[j]:\n",
    "                    slist[i], slist[j] = slist[j], slist[i]\n",
    "    return slist\n",
    " \n",
    "slist = shell_sort([4,5,6,7,3,2,6,9,8])\n",
    "print (slist)"
   ]
  },
  {
   "cell_type": "markdown",
   "metadata": {},
   "source": [
    "# Part 04  Python字符串"
   ]
  },
  {
   "cell_type": "markdown",
   "metadata": {},
   "source": [
    "# （1）字符串常用函数\n"
   ]
  },
  {
   "cell_type": "markdown",
   "metadata": {},
   "source": [
    "1）在一个较长字符串中查找子串：str.find(‘other’)\n",
    "\n",
    "2）连接字符串数组：str.join(list)\n",
    "\n",
    "3）将字符串根据某个分隔符进行分割：str.Split('delimiter')\n",
    "\n",
    "4）把字符串中的旧字符串替换成新字符串：str.replace(‘old’,’new’)\n",
    "\n",
    "5）去掉字符串的左右空格：str.strip（）\n",
    "\n",
    "6）进行大小写转换：str.upper（），str.lower（）"
   ]
  },
  {
   "cell_type": "code",
   "execution_count": 1,
   "metadata": {},
   "outputs": [
    {
     "name": "stdout",
     "output_type": "stream",
     "text": [
      "2\n"
     ]
    }
   ],
   "source": [
    "s1 = 'hello world'\n",
    "print(s1.find('l'))"
   ]
  },
  {
   "cell_type": "code",
   "execution_count": 2,
   "metadata": {},
   "outputs": [
    {
     "name": "stdout",
     "output_type": "stream",
     "text": [
      "['hello', 'world', 'hello', 'china']\n"
     ]
    }
   ],
   "source": [
    "s1 = 'hello world hello china'\n",
    "print(s1.split(' '))"
   ]
  },
  {
   "cell_type": "code",
   "execution_count": 3,
   "metadata": {},
   "outputs": [
    {
     "name": "stdout",
     "output_type": "stream",
     "text": [
      "hesso world\n",
      "hesso worsd\n"
     ]
    }
   ],
   "source": [
    "s1 = 'hello world'\n",
    "print(s1.replace('l','s',2))\n",
    "print(s1.replace('l','s'))"
   ]
  },
  {
   "cell_type": "code",
   "execution_count": 4,
   "metadata": {},
   "outputs": [
    {
     "name": "stdout",
     "output_type": "stream",
     "text": [
      "hello world hello china\n"
     ]
    }
   ],
   "source": [
    "s1 = 'hello world hello china      '\n",
    "print(s1.rstrip())"
   ]
  },
  {
   "cell_type": "code",
   "execution_count": 5,
   "metadata": {},
   "outputs": [
    {
     "name": "stdout",
     "output_type": "stream",
     "text": [
      "h-e-l-l-o- -w-o-r-l-d- -h-e-l-l-o- -c-h-i-n-a\n"
     ]
    }
   ],
   "source": [
    "s1 = 'hello world hello china'\n",
    "s2 = '-'\n",
    "print(s2.join(s1))"
   ]
  },
  {
   "cell_type": "code",
   "execution_count": 6,
   "metadata": {},
   "outputs": [
    {
     "name": "stdout",
     "output_type": "stream",
     "text": [
      "hello world hello china\n"
     ]
    }
   ],
   "source": [
    "s1 = 'HELLO WORLD hello china'\n",
    "print(s1.lower())"
   ]
  },
  {
   "cell_type": "markdown",
   "metadata": {},
   "source": [
    "# （2）正则表达式 "
   ]
  },
  {
   "cell_type": "markdown",
   "metadata": {},
   "source": [
    "正则表达式是一个特殊的字符序列，它能帮助你方便的检查一个字符串是否与某种模式匹配。\n",
    "\n",
    "1）re.match 尝试从字符串的起始位置匹配一个模式，如果不是起始位置匹配成功的话，match()就返回none。\n",
    "\n",
    "2）re.search 扫描整个字符串并返回第一个成功的匹配。"
   ]
  },
  {
   "cell_type": "code",
   "execution_count": 10,
   "metadata": {},
   "outputs": [
    {
     "name": "stdout",
     "output_type": "stream",
     "text": [
      "(0, 3)\n",
      "None\n"
     ]
    }
   ],
   "source": [
    "import re\n",
    "print(re.match('www', 'www.runoob.com').span())  # 在起始位置匹配\n",
    "print(re.match('com', 'www.runoob.com'))         # 不在起始位置匹配"
   ]
  },
  {
   "cell_type": "code",
   "execution_count": 11,
   "metadata": {},
   "outputs": [
    {
     "name": "stdout",
     "output_type": "stream",
     "text": [
      "(0, 3)\n",
      "(11, 14)\n"
     ]
    }
   ],
   "source": [
    "import re\n",
    "print(re.search('www', 'www.runoob.com').span())  # 在起始位置匹配\n",
    "print(re.search('com', 'www.runoob.com').span())         # 不在起始位置匹配"
   ]
  },
  {
   "cell_type": "markdown",
   "metadata": {},
   "source": [
    "# （3）字符串、列表和元组有什么不同的地方 "
   ]
  },
  {
   "cell_type": "markdown",
   "metadata": {},
   "source": [
    "1）字符串、列表和元组都属于序列类型，属于序列的操作对三者都适用。\n",
    "\n",
    "最大的区别是：列表中的元素是可以改变的，但是元组和字符串中的元素不可变.\n",
    "\n",
    "2）字符串中每个元素只能是字符，列表和元组中元素可以是任何类型。"
   ]
  },
  {
   "cell_type": "markdown",
   "metadata": {},
   "source": [
    "# （4）字符串拼接 "
   ]
  },
  {
   "cell_type": "markdown",
   "metadata": {},
   "source": [
    "1）使用+号来进行字符串的拼接：str1+str2\n",
    "\n",
    "2) 使用%进行拼接: 用符号“%”连接一个字符串和一组变量，字符串中的特殊标记会被自动用右边变量组中的变量替换。\n",
    "\n",
    "3）利用字符串的函数join()\n",
    "\n",
    "4) 通过str.format()方法拼接"
   ]
  },
  {
   "cell_type": "code",
   "execution_count": 4,
   "metadata": {},
   "outputs": [
    {
     "name": "stdout",
     "output_type": "stream",
     "text": [
      "Hello World!\n"
     ]
    }
   ],
   "source": [
    "s = 'Hello'+' '+'World'+'!'\n",
    "print(s)"
   ]
  },
  {
   "cell_type": "code",
   "execution_count": 5,
   "metadata": {},
   "outputs": [
    {
     "name": "stdout",
     "output_type": "stream",
     "text": [
      "Hello World!\n"
     ]
    }
   ],
   "source": [
    "s = '%s %s!' % ('Hello', 'World')\n",
    "print(s)"
   ]
  },
  {
   "cell_type": "code",
   "execution_count": 10,
   "metadata": {},
   "outputs": [
    {
     "name": "stdout",
     "output_type": "stream",
     "text": [
      "Hello World!\n"
     ]
    }
   ],
   "source": [
    "strlist=['Hello',' ','World','!']\n",
    "print(''.join(strlist))"
   ]
  },
  {
   "cell_type": "code",
   "execution_count": 11,
   "metadata": {},
   "outputs": [
    {
     "name": "stdout",
     "output_type": "stream",
     "text": [
      "Hello World!\n"
     ]
    }
   ],
   "source": [
    "s='{} {}!'.format('Hello','World')\n",
    "print(s)"
   ]
  },
  {
   "cell_type": "code",
   "execution_count": 2,
   "metadata": {},
   "outputs": [
    {
     "name": "stdout",
     "output_type": "stream",
     "text": [
      "Hello, World!\n"
     ]
    }
   ],
   "source": [
    "print(\"Hello, World!\")"
   ]
  }
 ],
 "metadata": {
  "kernelspec": {
   "display_name": "Python 3",
   "language": "python",
   "name": "python3"
  },
  "language_info": {
   "codemirror_mode": {
    "name": "ipython",
    "version": 3
   },
   "file_extension": ".py",
   "mimetype": "text/x-python",
   "name": "python",
   "nbconvert_exporter": "python",
   "pygments_lexer": "ipython3",
   "version": "3.7.1"
  }
 },
 "nbformat": 4,
 "nbformat_minor": 2
}
